{
 "cells": [
  {
   "cell_type": "code",
   "execution_count": 1,
   "id": "249690ea-440a-49fc-aae1-25b2e95a97fb",
   "metadata": {},
   "outputs": [
    {
     "name": "stdout",
     "output_type": "stream",
     "text": [
      "Решение системы [x, y, z]: [1.63963964 0.57657658 0.00900901]\n"
     ]
    }
   ],
   "source": [
    "import numpy as np\n",
    "\n",
    "# Матрица коэффициентов\n",
    "A = np.array([[2, 3, -1],\n",
    "              [4, -1, 2],\n",
    "              [-3, 5, 4]])\n",
    "# Вектор правой части\n",
    "B = np.array([5, 6, -2])\n",
    "\n",
    "# Решение системы\n",
    "solution = np.linalg.solve(A, B)\n",
    "print(\"Решение системы [x, y, z]:\", solution)"
   ]
  }
 ],
 "metadata": {
  "kernelspec": {
   "display_name": "Python 3 (ipykernel)",
   "language": "python",
   "name": "python3"
  },
  "language_info": {
   "codemirror_mode": {
    "name": "ipython",
    "version": 3
   },
   "file_extension": ".py",
   "mimetype": "text/x-python",
   "name": "python",
   "nbconvert_exporter": "python",
   "pygments_lexer": "ipython3",
   "version": "3.12.3"
  }
 },
 "nbformat": 4,
 "nbformat_minor": 5
}
