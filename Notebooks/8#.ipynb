{
 "cells": [
  {
   "cell_type": "code",
   "execution_count": 1,
   "id": "2e44b940-a5e9-43c9-bcc9-36b271774772",
   "metadata": {},
   "outputs": [
    {
     "name": "stdout",
     "output_type": "stream",
     "text": [
      "Матрица A:\n",
      " [[7 8 7]\n",
      " [7 1 6]\n",
      " [3 8 2]]\n",
      "Определитель: 80.99999999999996\n",
      "Обратная матрица:\n",
      " [[-0.56790123  0.49382716  0.50617284]\n",
      " [ 0.04938272 -0.08641975  0.08641975]\n",
      " [ 0.65432099 -0.39506173 -0.60493827]]\n"
     ]
    }
   ],
   "source": [
    "import numpy as np\n",
    "\n",
    "# Случайная квадратная матрица 3x3\n",
    "A = np.random.randint(1, 11, (3, 3))\n",
    "print(\"Матрица A:\\n\", A)\n",
    "\n",
    "# Определитель\n",
    "det = np.linalg.det(A)\n",
    "print(\"Определитель:\", det)\n",
    "\n",
    "# Обратная матрица (если существует)\n",
    "if np.isclose(det, 0):\n",
    "    print(\"Матрица вырождена, обратной не существует.\")\n",
    "else:\n",
    "    inv = np.linalg.inv(A)\n",
    "    print(\"Обратная матрица:\\n\", inv)"
   ]
  }
 ],
 "metadata": {
  "kernelspec": {
   "display_name": "Python 3 (ipykernel)",
   "language": "python",
   "name": "python3"
  },
  "language_info": {
   "codemirror_mode": {
    "name": "ipython",
    "version": 3
   },
   "file_extension": ".py",
   "mimetype": "text/x-python",
   "name": "python",
   "nbconvert_exporter": "python",
   "pygments_lexer": "ipython3",
   "version": "3.12.3"
  }
 },
 "nbformat": 4,
 "nbformat_minor": 5
}
