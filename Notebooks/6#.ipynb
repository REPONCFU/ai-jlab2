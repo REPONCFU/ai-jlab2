{
 "cells": [
  {
   "cell_type": "code",
   "execution_count": 1,
   "id": "bc637d4d-c13b-4d9b-b2c2-c1e2674f49d8",
   "metadata": {},
   "outputs": [
    {
     "name": "stdout",
     "output_type": "stream",
     "text": [
      "Матрица A:\n",
      " [[16 14 19]\n",
      " [ 5  1 14]\n",
      " [ 6  2 14]]\n",
      "Матрица B:\n",
      " [[18 15  2]\n",
      " [12  2 20]\n",
      " [ 7 20  4]]\n",
      "Сумма матриц:\n",
      " [[34 29 21]\n",
      " [17  3 34]\n",
      " [13 22 18]]\n",
      "Разность матриц:\n",
      " [[ -2  -1  17]\n",
      " [ -7  -1  -6]\n",
      " [ -1 -18  10]]\n",
      "Поэлементное произведение:\n",
      " [[288 210  38]\n",
      " [ 60   2 280]\n",
      " [ 42  40  56]]\n"
     ]
    }
   ],
   "source": [
    "import numpy as np\n",
    "\n",
    "# Две квадратные матрицы 3x3 со случайными числами от 1 до 20\n",
    "A = np.random.randint(1, 21, (3, 3))\n",
    "B = np.random.randint(1, 21, (3, 3))\n",
    "print(\"Матрица A:\\n\", A)\n",
    "print(\"Матрица B:\\n\", B)\n",
    "\n",
    "# Сумма\n",
    "print(\"Сумма матриц:\\n\", A + B)\n",
    "# Разность\n",
    "print(\"Разность матриц:\\n\", A - B)\n",
    "# Поэлементное произведение\n",
    "print(\"Поэлементное произведение:\\n\", A * B)"
   ]
  }
 ],
 "metadata": {
  "kernelspec": {
   "display_name": "Python 3 (ipykernel)",
   "language": "python",
   "name": "python3"
  },
  "language_info": {
   "codemirror_mode": {
    "name": "ipython",
    "version": 3
   },
   "file_extension": ".py",
   "mimetype": "text/x-python",
   "name": "python",
   "nbconvert_exporter": "python",
   "pygments_lexer": "ipython3",
   "version": "3.12.3"
  }
 },
 "nbformat": 4,
 "nbformat_minor": 5
}
