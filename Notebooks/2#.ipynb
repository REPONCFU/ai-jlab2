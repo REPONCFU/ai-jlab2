{
 "cells": [
  {
   "cell_type": "code",
   "execution_count": 1,
   "id": "714ddb97-2c6c-4c4d-8c6e-bb2907076cc7",
   "metadata": {},
   "outputs": [
    {
     "name": "stdout",
     "output_type": "stream",
     "text": [
      "Исходный массив:\n",
      "[23  2 65 67 33 31 72 66 44 26 10 78 71 77 78 90 29 19 38 34]\n",
      "Элементы, делящиеся на 5:\n",
      "[65 10 90]\n",
      "Обновленный массив:\n",
      "[23  2 -1 67 33 31 72 66 44 26 -1 78 71 77 78 -1 29 19 38 34]\n"
     ]
    }
   ],
   "source": [
    "import numpy as np\n",
    "\n",
    "# Создание массива из 20 случайных целых чисел от 1 до 100\n",
    "arr = np.random.randint(1, 101, 20)\n",
    "print(\"Исходный массив:\")\n",
    "print(arr)\n",
    "\n",
    "# Находим элементы, которые делятся на 5\n",
    "mask = arr % 5 == 0\n",
    "print(\"Элементы, делящиеся на 5:\")\n",
    "print(arr[mask])\n",
    "\n",
    "# Заменяем найденные элементы на -1\n",
    "arr[mask] = -1\n",
    "print(\"Обновленный массив:\")\n",
    "print(arr)"
   ]
  }
 ],
 "metadata": {
  "kernelspec": {
   "display_name": "Python 3 (ipykernel)",
   "language": "python",
   "name": "python3"
  },
  "language_info": {
   "codemirror_mode": {
    "name": "ipython",
    "version": 3
   },
   "file_extension": ".py",
   "mimetype": "text/x-python",
   "name": "python",
   "nbconvert_exporter": "python",
   "pygments_lexer": "ipython3",
   "version": "3.12.3"
  }
 },
 "nbformat": 4,
 "nbformat_minor": 5
}
