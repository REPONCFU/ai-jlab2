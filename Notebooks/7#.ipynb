{
 "cells": [
  {
   "cell_type": "code",
   "execution_count": 1,
   "id": "154c3c8d-7df1-4822-b8d1-91ca29e4ca08",
   "metadata": {},
   "outputs": [
    {
     "name": "stdout",
     "output_type": "stream",
     "text": [
      "Матрица A:\n",
      " [[8 6 8]\n",
      " [4 7 9]]\n",
      "Матрица B:\n",
      " [[9 2]\n",
      " [7 3]\n",
      " [7 8]]\n",
      "Результат умножения:\n",
      " [[170  98]\n",
      " [148 101]]\n"
     ]
    }
   ],
   "source": [
    "import numpy as np\n",
    "\n",
    "# Первая матрица 2x3\n",
    "A = np.random.randint(1, 11, (2, 3))\n",
    "# Вторая матрица 3x2\n",
    "B = np.random.randint(1, 11, (3, 2))\n",
    "print(\"Матрица A:\\n\", A)\n",
    "print(\"Матрица B:\\n\", B)\n",
    "\n",
    "# Матричное умножение\n",
    "product = A @ B  # или np.dot(A, B)\n",
    "print(\"Результат умножения:\\n\", product)"
   ]
  }
 ],
 "metadata": {
  "kernelspec": {
   "display_name": "Python 3 (ipykernel)",
   "language": "python",
   "name": "python3"
  },
  "language_info": {
   "codemirror_mode": {
    "name": "ipython",
    "version": 3
   },
   "file_extension": ".py",
   "mimetype": "text/x-python",
   "name": "python",
   "nbconvert_exporter": "python",
   "pygments_lexer": "ipython3",
   "version": "3.12.3"
  }
 },
 "nbformat": 4,
 "nbformat_minor": 5
}
