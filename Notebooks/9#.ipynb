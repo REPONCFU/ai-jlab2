{
 "cells": [
  {
   "cell_type": "code",
   "execution_count": 1,
   "id": "1e03cb24-ffca-44ec-9a26-67d482825b07",
   "metadata": {},
   "outputs": [
    {
     "name": "stdout",
     "output_type": "stream",
     "text": [
      "Исходная матрица:\n",
      " [[36 27 24 16]\n",
      " [20  2 10 13]\n",
      " [39  2 28 42]\n",
      " [12 40 24 38]]\n",
      "Транспонированная матрица:\n",
      " [[36 20 39 12]\n",
      " [27  2  2 40]\n",
      " [24 10 28 24]\n",
      " [16 13 42 38]]\n",
      "След матрицы: 104\n"
     ]
    }
   ],
   "source": [
    "import numpy as np\n",
    "\n",
    "# Матрица 4x4 из случайных чисел от 1 до 50\n",
    "A = np.random.randint(1, 51, (4, 4))\n",
    "print(\"Исходная матрица:\\n\", A)\n",
    "\n",
    "# Транспонирование\n",
    "AT = A.T\n",
    "print(\"Транспонированная матрица:\\n\", AT)\n",
    "\n",
    "# След\n",
    "trace = np.trace(A)\n",
    "print(\"След матрицы:\", trace)"
   ]
  }
 ],
 "metadata": {
  "kernelspec": {
   "display_name": "Python 3 (ipykernel)",
   "language": "python",
   "name": "python3"
  },
  "language_info": {
   "codemirror_mode": {
    "name": "ipython",
    "version": 3
   },
   "file_extension": ".py",
   "mimetype": "text/x-python",
   "name": "python",
   "nbconvert_exporter": "python",
   "pygments_lexer": "ipython3",
   "version": "3.12.3"
  }
 },
 "nbformat": 4,
 "nbformat_minor": 5
}
