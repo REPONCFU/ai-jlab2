{
 "cells": [
  {
   "cell_type": "code",
   "execution_count": 1,
   "id": "1d36f169-8a30-4680-ba62-406aab80202e",
   "metadata": {},
   "outputs": [
    {
     "name": "stdout",
     "output_type": "stream",
     "text": [
      "Исходный массив:\n",
      "[[1 2 3]\n",
      " [4 5 6]\n",
      " [7 8 9]]\n",
      "Умноженный на 2:\n",
      "[[ 2  4  6]\n",
      " [ 8 10 12]\n",
      " [14 16 18]]\n",
      "Элементы больше 10 заменены на 0:\n",
      "[[ 2  4  6]\n",
      " [ 8 10  0]\n",
      " [ 0  0  0]]\n"
     ]
    }
   ],
   "source": [
    "import numpy as np\n",
    "\n",
    "# Создание массива 3x3 с числами от 1 до 9\n",
    "arr = np.arange(1, 10).reshape(3, 3)\n",
    "print(\"Исходный массив:\")\n",
    "print(arr)\n",
    "\n",
    "# Умножаем все элементы на 2\n",
    "arr = arr * 2\n",
    "print(\"Умноженный на 2:\")\n",
    "print(arr)\n",
    "\n",
    "# Заменяем элементы больше 10 на 0\n",
    "arr[arr > 10] = 0\n",
    "print(\"Элементы больше 10 заменены на 0:\")\n",
    "print(arr)"
   ]
  }
 ],
 "metadata": {
  "kernelspec": {
   "display_name": "Python 3 (ipykernel)",
   "language": "python",
   "name": "python3"
  },
  "language_info": {
   "codemirror_mode": {
    "name": "ipython",
    "version": 3
   },
   "file_extension": ".py",
   "mimetype": "text/x-python",
   "name": "python",
   "nbconvert_exporter": "python",
   "pygments_lexer": "ipython3",
   "version": "3.12.3"
  }
 },
 "nbformat": 4,
 "nbformat_minor": 5
}
