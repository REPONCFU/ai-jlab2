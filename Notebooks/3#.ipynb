{
 "cells": [
  {
   "cell_type": "code",
   "execution_count": 1,
   "id": "1acbb43f-5f17-4ae5-b207-b42c8f9b56d6",
   "metadata": {},
   "outputs": [
    {
     "name": "stdout",
     "output_type": "stream",
     "text": [
      "Массив a: [27 33 22 35 27]\n",
      "Массив b: [43 20 28 39 35]\n",
      "Объединенный двумерный массив:\n",
      "[[27 33 22 35 27]\n",
      " [43 20 28 39 35]]\n",
      "Первый массив после разделения: [[27 33 22 35 27]]\n",
      "Второй массив после разделения: [[43 20 28 39 35]]\n"
     ]
    }
   ],
   "source": [
    "import numpy as np\n",
    "\n",
    "# Два массива 1x5 со случайными числами от 0 до 50\n",
    "a = np.random.randint(0, 51, 5)\n",
    "b = np.random.randint(0, 51, 5)\n",
    "print(\"Массив a:\", a)\n",
    "print(\"Массив b:\", b)\n",
    "\n",
    "# Объединяем по строкам\n",
    "combined = np.vstack([a, b])\n",
    "print(\"Объединенный двумерный массив:\")\n",
    "print(combined)\n",
    "\n",
    "# Разделяем обратно на два массива по 5 элементов\n",
    "split = np.vsplit(combined, 2)\n",
    "print(\"Первый массив после разделения:\", split[0])\n",
    "print(\"Второй массив после разделения:\", split[1])"
   ]
  }
 ],
 "metadata": {
  "kernelspec": {
   "display_name": "Python 3 (ipykernel)",
   "language": "python",
   "name": "python3"
  },
  "language_info": {
   "codemirror_mode": {
    "name": "ipython",
    "version": 3
   },
   "file_extension": ".py",
   "mimetype": "text/x-python",
   "name": "python",
   "nbconvert_exporter": "python",
   "pygments_lexer": "ipython3",
   "version": "3.12.3"
  }
 },
 "nbformat": 4,
 "nbformat_minor": 5
}
