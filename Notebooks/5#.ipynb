{
 "cells": [
  {
   "cell_type": "code",
   "execution_count": 1,
   "id": "81611288-6649-4985-9cec-fe7196698d01",
   "metadata": {},
   "outputs": [
    {
     "name": "stdout",
     "output_type": "stream",
     "text": [
      "Единичная матрица:\n",
      " [[1. 0. 0. 0.]\n",
      " [0. 1. 0. 0.]\n",
      " [0. 0. 1. 0.]\n",
      " [0. 0. 0. 1.]]\n",
      "Диагональная матрица:\n",
      " [[ 5  0  0  0]\n",
      " [ 0 10  0  0]\n",
      " [ 0  0 15  0]\n",
      " [ 0  0  0 20]]\n",
      "Сумма всех элементов единичной матрицы: 4.0\n",
      "Сумма всех элементов диагональной матрицы: 50\n"
     ]
    }
   ],
   "source": [
    "import numpy as np\n",
    "\n",
    "# Единичная матрица 4x4\n",
    "I = np.eye(4)\n",
    "print(\"Единичная матрица:\\n\", I)\n",
    "\n",
    "# Диагональная матрица 4x4 с [5, 10, 15, 20]\n",
    "diag = np.diag([5, 10, 15, 20])\n",
    "print(\"Диагональная матрица:\\n\", diag)\n",
    "\n",
    "# Суммы элементов\n",
    "sum_I = I.sum()\n",
    "sum_diag = diag.sum()\n",
    "print(\"Сумма всех элементов единичной матрицы:\", sum_I)\n",
    "print(\"Сумма всех элементов диагональной матрицы:\", sum_diag)"
   ]
  }
 ],
 "metadata": {
  "kernelspec": {
   "display_name": "Python 3 (ipykernel)",
   "language": "python",
   "name": "python3"
  },
  "language_info": {
   "codemirror_mode": {
    "name": "ipython",
    "version": 3
   },
   "file_extension": ".py",
   "mimetype": "text/x-python",
   "name": "python",
   "nbconvert_exporter": "python",
   "pygments_lexer": "ipython3",
   "version": "3.12.3"
  }
 },
 "nbformat": 4,
 "nbformat_minor": 5
}
